{
 "cells": [
  {
   "cell_type": "code",
   "execution_count": 7,
   "id": "52772d94",
   "metadata": {},
   "outputs": [],
   "source": [
    "import pandas as pd\n",
    "import numpy as np\n",
    "from sklearn.preprocessing import LabelEncoder, StandardScaler\n",
    "from sklearn.ensemble import RandomForestClassifier\n",
    "from sklearn.model_selection import train_test_split\n",
    "from sklearn.metrics import accuracy_score, roc_auc_score\n",
    "from pulp import LpProblem, LpMaximize, LpVariable, lpSum\n",
    "from sklearn.ensemble import GradientBoostingRegressor\n",
    "import numpy as np\n",
    "from sklearn.preprocessing import StandardScaler\n"
   ]
  },
  {
   "cell_type": "markdown",
   "id": "a44c2b52",
   "metadata": {},
   "source": [
    "1. Data Collection and Preprocessing"
   ]
  },
  {
   "cell_type": "code",
   "execution_count": 3,
   "id": "a98c00fd",
   "metadata": {},
   "outputs": [],
   "source": [
    "# Load datasets\n",
    "matches = pd.read_csv('matches.csv')\n",
    "balls = pd.read_csv('deliveries.csv')  # Assuming ball-by-ball data is in 'deliveries.csv'\n",
    "\n",
    "# Preprocess matches data\n",
    "matches.dropna(subset=['winner', 'toss_winner', 'toss_decision'], inplace=True)\n",
    "\n",
    "# Encode categorical features\n",
    "le = LabelEncoder()\n",
    "for col in ['team1', 'team2', 'toss_winner', 'venue', 'toss_decision']:\n",
    "    matches[f'{col}_encoded'] = le.fit_transform(matches[col])\n",
    "\n",
    "# Target variable: Team1 wins (1) or not (0)\n",
    "matches['team1_wins'] = (matches['winner'] == matches['team1']).astype(int)"
   ]
  },
  {
   "cell_type": "markdown",
   "id": "3014fc80",
   "metadata": {},
   "source": [
    "2. Winning Probability Model"
   ]
  },
  {
   "cell_type": "code",
   "execution_count": 4,
   "id": "b6ef4b5b",
   "metadata": {},
   "outputs": [
    {
     "name": "stdout",
     "output_type": "stream",
     "text": [
      "Accuracy: 0.5045871559633027\n",
      "ROC AUC: 0.5089338390223346\n"
     ]
    }
   ],
   "source": [
    "# Feature Engineering: Historical Win Rate\n",
    "team_stats = matches.groupby('team1')['team1_wins'].mean().reset_index()\n",
    "team_stats.columns = ['team', 'win_rate']\n",
    "\n",
    "matches = matches.merge(team_stats, left_on='team1', right_on='team', suffixes=('', '_team1'))\n",
    "matches = matches.merge(team_stats, left_on='team2', right_on='team', suffixes=('', '_team2'))\n",
    "\n",
    "# Select Features\n",
    "features = ['team1_encoded', 'team2_encoded', 'venue_encoded', 'toss_winner_encoded', \n",
    "            'toss_decision_encoded', 'win_rate', 'win_rate_team2']\n",
    "X = matches[features]\n",
    "y = matches['team1_wins']\n",
    "\n",
    "# Split data\n",
    "X_train, X_test, y_train, y_test = train_test_split(X, y, test_size=0.2, random_state=42)\n",
    "\n",
    "# Train model\n",
    "model = RandomForestClassifier(n_estimators=100)\n",
    "model.fit(X_train, y_train)\n",
    "\n",
    "# Evaluate\n",
    "y_pred = model.predict(X_test)\n",
    "print(f'Accuracy: {accuracy_score(y_test, y_pred)}')\n",
    "print(f'ROC AUC: {roc_auc_score(y_test, model.predict_proba(X_test)[:, 1])}')"
   ]
  },
  {
   "cell_type": "markdown",
   "id": "3ede44b8",
   "metadata": {},
   "source": [
    "3. Top Player Rankings"
   ]
  },
  {
   "cell_type": "code",
   "execution_count": 8,
   "id": "37feb659",
   "metadata": {},
   "outputs": [
    {
     "name": "stdout",
     "output_type": "stream",
     "text": [
      "Columns: ['match_id', 'inning', 'batting_team', 'bowling_team', 'over', 'ball', 'batter', 'bowler', 'non_striker', 'batsman_runs', 'extra_runs', 'total_runs', 'extras_type', 'is_wicket', 'player_dismissed', 'dismissal_kind', 'fielder']\n"
     ]
    }
   ],
   "source": [
    "\n",
    "# 1) Ensure correct column names:\n",
    "print(\"Columns:\", balls.columns.tolist())\n",
    "if 'batter' in balls.columns:\n",
    "    balls = balls.rename(columns={'batter': 'batsman'})\n",
    "\n",
    "# 2) Batsmen stats:\n",
    "batsman_stats = (\n",
    "    balls\n",
    "    .groupby('batsman')\n",
    "    .agg(\n",
    "        total_runs   = ('batsman_runs', 'sum'),\n",
    "        balls_faced  = ('batsman_runs', 'count'),\n",
    "    )\n",
    "    .reset_index()\n",
    ")\n",
    "batsman_stats['average']     = batsman_stats['total_runs'] / batsman_stats['balls_faced']\n",
    "batsman_stats['strike_rate'] = batsman_stats['total_runs'] / batsman_stats['balls_faced'] * 100\n",
    "\n",
    "# 3) Bowlers stats:\n",
    "bowler_stats = (\n",
    "    balls\n",
    "    .groupby('bowler')\n",
    "    .agg(\n",
    "        total_wickets   = ('is_wicket', 'sum'),\n",
    "        runs_conceded   = ('total_runs', 'sum'),\n",
    "        balls_bowled    = ('total_runs', 'count'),\n",
    "    )\n",
    "    .reset_index()\n",
    ")\n",
    "bowler_stats['economy'] = bowler_stats['runs_conceded'] / (bowler_stats['balls_bowled'] / 6)\n",
    "# avoid divide-by-zero for average:\n",
    "bowler_stats['average'] = bowler_stats['runs_conceded'] / bowler_stats['total_wickets'].replace({0: np.nan})\n",
    "\n",
    "# 4) Normalize & score batsmen:\n",
    "scaler = StandardScaler()\n",
    "cols_to_scale = ['total_runs', 'average', 'strike_rate']\n",
    "batsman_stats[cols_to_scale] = scaler.fit_transform(batsman_stats[cols_to_scale])\n",
    "batsman_stats['score'] = batsman_stats[cols_to_scale].mean(axis=1)\n",
    "top_batsmen = batsman_stats.sort_values('score', ascending=False).head(10)\n",
    "\n",
    "# 5) (Optional) Likewise for bowlers:\n",
    "cols_bowl = ['total_wickets', 'economy', 'average']\n",
    "bowler_stats[cols_bowl] = scaler.fit_transform(bowler_stats[cols_bowl])\n",
    "bowler_stats['score'] = bowler_stats[cols_bowl].mean(axis=1)\n",
    "top_bowlers = bowler_stats.sort_values('score', ascending=False).head(10)\n"
   ]
  },
  {
   "cell_type": "markdown",
   "id": "74513b84",
   "metadata": {},
   "source": [
    "4. Best Playing XI Suggestions"
   ]
  },
  {
   "cell_type": "code",
   "execution_count": 11,
   "id": "df6619bc",
   "metadata": {},
   "outputs": [
    {
     "name": "stdout",
     "output_type": "stream",
     "text": [
      "['Player1', 'Player2', 'Player3']\n"
     ]
    }
   ],
   "source": [
    "# Sample player data (replace with actual data)\n",
    "players = pd.DataFrame({\n",
    "    'name': ['Player1', 'Player2', 'Player3'],\n",
    "    'role': ['Batsman', 'Bowler', 'All-Rounder'],\n",
    "    'score': [9.5, 8.7, 9.0],\n",
    "    'overseas': [0, 1, 1]\n",
    "})\n",
    "\n",
    "# Optimization model\n",
    "prob = LpProblem('BestXI', LpMaximize)\n",
    "player_vars = LpVariable.dicts('Player', players.index, cat='Binary')\n",
    "\n",
    "# Objective: Maximize total score\n",
    "prob += lpSum([players.loc[i, 'score'] * player_vars[i] for i in players.index])\n",
    "\n",
    "# Constraints\n",
    "prob += lpSum([player_vars[i] for i in players.index]) == 11\n",
    "prob += lpSum([player_vars[i] for i in players[players['overseas'] == 1].index]) <= 4\n",
    "# Add role constraints here (e.g., min batsmen, bowlers)\n",
    "\n",
    "prob.solve()\n",
    "best_xi = [players.loc[i, 'name'] for i in players.index if player_vars[i].value() == 1]\n",
    "print(best_xi)"
   ]
  },
  {
   "cell_type": "code",
   "execution_count": null,
   "id": "89c8c9a3",
   "metadata": {},
   "outputs": [],
   "source": []
  }
 ],
 "metadata": {
  "kernelspec": {
   "display_name": "Python 3",
   "language": "python",
   "name": "python3"
  },
  "language_info": {
   "codemirror_mode": {
    "name": "ipython",
    "version": 3
   },
   "file_extension": ".py",
   "mimetype": "text/x-python",
   "name": "python",
   "nbconvert_exporter": "python",
   "pygments_lexer": "ipython3",
   "version": "3.10.9"
  }
 },
 "nbformat": 4,
 "nbformat_minor": 5
}
